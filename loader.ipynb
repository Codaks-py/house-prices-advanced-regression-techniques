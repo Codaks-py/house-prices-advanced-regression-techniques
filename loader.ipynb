{
 "cells": [
  {
   "cell_type": "code",
   "execution_count": null,
   "id": "bb86a76d",
   "metadata": {},
   "outputs": [],
   "source": [
    "# Load and preprocess test data\n",
    "test_df = pd.read_csv('house_prices_test.csv')\n",
    "test_df.drop(['Id'], axis=1, inplace=True)\n",
    "\n",
    "# Apply same encoding\n",
    "test_df = pd.get_dummies(test_df, drop_first=True)\n",
    "\n",
    "# Align columns with training data\n",
    "test_df = test_df.reindex(columns=X.columns, fill_value=0)\n",
    "\n",
    "# Scale using the same scaler\n",
    "X_test_scaled = scaler.transform(test_df)\n"
   ]
  },
  {
   "cell_type": "code",
   "execution_count": null,
   "id": "b9f8d917",
   "metadata": {},
   "outputs": [],
   "source": [
    "# Predict prices\n",
    "predicted_prices = lasso.predict(X_test_scaled)\n",
    "\n",
    "# View results\n",
    "print(predicted_prices[:10])  # First 10 predictions\n"
   ]
  },
  {
   "cell_type": "code",
   "execution_count": null,
   "id": "ead3e7c5",
   "metadata": {},
   "outputs": [],
   "source": [
    "output = pd.DataFrame({'Id': test_ids, 'SalePrice': predicted_prices})\n",
    "output.to_csv('lasso_predictions.csv', index=False)\n"
   ]
  }
 ],
 "metadata": {
  "language_info": {
   "name": "python"
  }
 },
 "nbformat": 4,
 "nbformat_minor": 5
}
